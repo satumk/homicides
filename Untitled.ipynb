{
 "cells": [
  {
   "cell_type": "markdown",
   "metadata": {},
   "source": [
    "The data used in this notebook has been downloaded from data.un.org (http://data.un.org/Explorer.aspx) Homicide statistics from United Nations Office on Drugs and Crime. It contains homicide statistics from all countries in the world. The statistics covers intentional homicide victims, their counts and rates per 100 000 population. The term intentional homicide means unlawful death inflicted upon a person with the intent to cause death or serious injury. It does not contain victims of terror attacks."
   ]
  },
  {
   "cell_type": "code",
   "execution_count": null,
   "metadata": {},
   "outputs": [],
   "source": [
    "import pandas as pd\n",
    "import numpy as np"
   ]
  }
 ],
 "metadata": {
  "kernelspec": {
   "display_name": "Python 3",
   "language": "python",
   "name": "python3"
  },
  "language_info": {
   "codemirror_mode": {
    "name": "ipython",
    "version": 3
   },
   "file_extension": ".py",
   "mimetype": "text/x-python",
   "name": "python",
   "nbconvert_exporter": "python",
   "pygments_lexer": "ipython3",
   "version": "3.7.3"
  }
 },
 "nbformat": 4,
 "nbformat_minor": 2
}
